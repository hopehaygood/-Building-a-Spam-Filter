{
 "cells": [
  {
   "cell_type": "code",
   "execution_count": 1,
   "id": "nervous-kitchen",
   "metadata": {},
   "outputs": [],
   "source": [
    "import re\n",
    "from nltk.stem import PorterStemmer \n",
    "import pandas as pd\n",
    "import numpy as np"
   ]
  },
  {
   "cell_type": "markdown",
   "id": "fancy-advertising",
   "metadata": {},
   "source": [
    "# Midterm Project-Building a Spam Filter"
   ]
  },
  {
   "cell_type": "markdown",
   "id": "boxed-consumer",
   "metadata": {},
   "source": [
    "The purpose of this project is to train a classifier to detect email spams (spam $y=1$, non-spam $y=0$).\n",
    "\n",
    "First, we need to change any text email to numerical values (a feature vector $\\boldsymbol{x}\\in\\mathbb{R}^n$). We walk through the steps of constructing such a vector from an email."
   ]
  },
  {
   "cell_type": "markdown",
   "id": "exclusive-argentina",
   "metadata": {},
   "source": [
    "## Preprocessing Emails (20 pts)\n",
    "\n",
    "The file named \"email1.txt\" contains an example email that contains words, numbers, an email address, a URL, special letters (e.g. the dollar sign). Since many emails may contain numbers, email addresses, URLs, special letters, it is common practice to \"normalize\" these values, so that all email addresses, URLs, etc. are treated the same. For example, we can replace any URL with a special string \"httpaddress\" to indicate a URL exists. The purpose is to let the spam classifier know a URL is present, instead of what the URL is. Following this idea, we will implement the following steps for any raw email:\n",
    "\n",
    "1. Lower-casing: convert all letters to lower case\n",
    "2. Normalizing URLs: All URLs are replaced with the text \"httpaddr\".\n",
    "3. Normalizing email addresses: Replace all email addresses with the text \"emailaddr\"\n",
    "4. Normalizing numbers: Replace all numbers with the text \"number\".\n",
    "5. Normalizing Dollars: Replace all dollar signs $\\$$ with the text \"dollar\".\n",
    "6. Stemming words: For example, \"replacing\", \"replaces\", \"replaced\" are all replaced with \"replace\"\n",
    "7. Removing non-words: Remove non-words and punctuations. All white spaces (tabs, newlines ('\\n'), spaces) should be trimmed to a single space character."
   ]
  },
  {
   "cell_type": "markdown",
   "id": "responsible-austin",
   "metadata": {},
   "source": [
    "To achieve all the 7 steps, we look at an example. Read in \"email1.txt\" as a single string:"
   ]
  },
  {
   "cell_type": "code",
   "execution_count": 2,
   "id": "frozen-inclusion",
   "metadata": {},
   "outputs": [
    {
     "data": {
      "text/plain": [
       "\"> Anyone knows how much it costs to host a web portal ?\\n>\\nWell, it depends on how many visitors you're expecting.\\nThis can be anywhere from less than 10 bucks a month to a couple of $100. \\nYou should checkout http://www.rackspace.com/ or perhaps Amazon EC2 \\nif youre running something big..\\n\\nTo unsubscribe yourself from this mailing list, send an email to:\\ngroupname-unsubscribe@egroups.com\\n\\n\""
      ]
     },
     "execution_count": 2,
     "metadata": {},
     "output_type": "execute_result"
    }
   ],
   "source": [
    "email = open('email1.txt', 'r').read()\n",
    "email"
   ]
  },
  {
   "cell_type": "markdown",
   "id": "binding-strike",
   "metadata": {},
   "source": [
    "Here are the codes to realize all the steps above in Python. Suppose we have a string variable named str1.\n",
    "\n",
    "1. str1.lower() converts all uppercase characters in str1 into lowercase characters (note that str1 itself does not change.)\n",
    "2. Replace URLs by: re.sub(r'(http|https)://[^\\s]*', 'httpaddr', str1)\n",
    "3. Replace email addresses by: re.sub('[^\\s]+@[^\\s]+', 'emailaddr', str1);\n",
    "4. Replace all numbers by: re.sub('[0-9]+', 'number', str1)\n",
    "5. Replace dollar sign by: re.sub('[$]+', 'dollar', str1)\n",
    "6. Word Stemming: first build a PorterStemmer class by: ps = PorterStemmer(), then stemming the words by: \n",
    "\n",
    "str1 = \" \".join([ps.stem(word) for word in str1.split()])\n",
    "\n",
    "7. Remove non-words and punctuations by: "
   ]
  },
  {
   "cell_type": "raw",
   "id": "downtown-affect",
   "metadata": {},
   "source": [
    "re.sub(r'[\\'\\\"@$%/#.:,&*+=?!\\[\\](){}>_<]', '', str1). "
   ]
  },
  {
   "cell_type": "markdown",
   "id": "academic-shape",
   "metadata": {},
   "source": [
    "Trim white spaces to a single space character by: re.sub(r'\\s+',' ', str1)\n",
    "\n",
    "Finally strip the string (remove spaces at the beginning and at the end of the string) by:\n",
    "str1 = str1.strip()"
   ]
  },
  {
   "cell_type": "code",
   "execution_count": 3,
   "id": "1b5085e2",
   "metadata": {},
   "outputs": [
    {
     "name": "stdout",
     "output_type": "stream",
     "text": [
      "anyon know how much it cost to host a web portal well it depend on how mani visitor your expecting thi can be anywher from less than number buck a month to a coupl of dollarnumber you should checkout httpaddr or perhap amazon ecnumb if your run someth big to unsubscrib yourself from thi mail list send an email to emailaddr\n"
     ]
    }
   ],
   "source": [
    "# First we will \"normalize\" the emails \n",
    "\n",
    "# 1. Lower-casing: convert all letters to lower case\n",
    "# email.lower() will convert all uppercase characters in the string data into lowercase characters \n",
    "# Note that the email data itself does not change\n",
    "email_string = email.lower()\n",
    "\n",
    "# 2. Normalizing URLs: All URLs are replaced with the text \"httpaddr\".\n",
    "# Replace URLs by: re.sub(r'(http|https)://[^\\s]*', 'httpaddr', str1)\n",
    "\n",
    "email_string = re.sub(r'(http|https)://[^\\s]*', 'httpaddr', email_string)\n",
    "\n",
    "# 3. Normalizing email addresses: Replace all email addresses with the text \"emailaddr\"\n",
    "# Replace email addresses by: re.sub('[^\\s]+@[^\\s]+', 'emailaddr', str1);\n",
    "\n",
    "email_string = re.sub('[^\\s]+@[^\\s]+', 'emailaddr', email_string)\n",
    "\n",
    "# Normalizing numbers: Replace all numbers with the text \"number\".\n",
    "# Replace all numbers by: re.sub('[0-9]+', 'number', str1)\n",
    "\n",
    "email_string = re.sub('[0-9]+', 'number', email_string)\n",
    "\n",
    "# 5. Normalizing Dollars: Replace all dollar signs $ with the text \"dollar\"\n",
    "# Replace dollar sign by: re.sub('[$]+', 'dollar', str1)\n",
    "\n",
    "email_string = re.sub('[$]+', 'dollar', email_string)\n",
    "\n",
    "# 6. Stemming words: For example, \"replacing\", \"replaces\", \"replaced\" are all replaced with \"replace\"\n",
    "# Word Stemming: first build a PorterStemmer class by: ps = PorterStemmer(), then stemming the words by: \n",
    "\n",
    "# str1 = \" \".join([ps.stem(word) for word in str1.split()])\n",
    "\n",
    "ps = PorterStemmer()\n",
    "email_string = \" \".join([ps.stem(word) for word in email_string.split()])\n",
    "\n",
    "# 7. Removing non-words: Remove non-words and punctuations. \n",
    "# All white spaces (tabs, newlines ('\\n'), spaces) should be trimmed to a single space character.\n",
    "\n",
    "# Remove non-words and punctuations by:\n",
    "# re.sub(r'[\\'\\\"@$%/#.:,&*+=?!\\[\\](){}>_<]', '', str1)\n",
    "\n",
    "email_string = re.sub(r'[\\'\\\"@$%/#.:,&*+=?!\\[\\](){}>_<]', '', email_string)\n",
    "\n",
    "# Remove Leading and Treailing spaces\n",
    "email_string = email_string.strip()\n",
    "\n",
    "# Remove all white spaces\n",
    "#email_string = email_string.replace(\" \", \"\")\n",
    "# This is not what we want as this removes all of the white space entirely \n",
    "# Remove Duplicate White Spaces\n",
    "email_string = \" \".join(email_string.split())\n",
    "\n",
    "# Now we will print out the Normalizes email string\n",
    "print(email_string)"
   ]
  },
  {
   "cell_type": "markdown",
   "id": "driving-denial",
   "metadata": {},
   "source": [
    "Try each of this steps on the email string, and see if it works (you don't need to show the process). If everything works, then put everything in a function of the following form: "
   ]
  },
  {
   "cell_type": "code",
   "execution_count": 4,
   "id": "satisfactory-manufacturer",
   "metadata": {},
   "outputs": [
    {
     "name": "stdout",
     "output_type": "stream",
     "text": [
      "anyon know how much it cost to host a web portal well it depend on how mani visitor your expecting thi can be anywher from less than number buck a month to a coupl of dollarnumber you should checkout httpaddr or perhap amazon ecnumb if your run someth big to unsubscrib yourself from thi mail list send an email to emailaddr\n"
     ]
    }
   ],
   "source": [
    "def ProcessEmail(emailstring):\n",
    "    email_string = email.lower()\n",
    "    email_string = re.sub(r'(http|https)://[^\\s]*', 'httpaddr', email_string)\n",
    "    email_string = re.sub('[^\\s]+@[^\\s]+', 'emailaddr', email_string)\n",
    "    email_string = re.sub('[0-9]+', 'number', email_string)\n",
    "    email_string = re.sub('[$]+', 'dollar', email_string)\n",
    "    ps = PorterStemmer()\n",
    "    email_string = \" \".join([ps.stem(word) for word in email_string.split()])\n",
    "    email_string = re.sub(r'[\\'\\\"@$%/#.:,&*+=?!\\[\\](){}>_<]', '', email_string)\n",
    "    email_string = email_string.strip()\n",
    "    email_string = \" \".join(email_string.split())\n",
    "    return(email_string)\n",
    "    \n",
    "    \"\"\"\n",
    "    Process the 7 steps above for an email string\n",
    "    input: emailstring: the string that contains the email content. type: string\n",
    "    return: a string that is the processed email content\n",
    "    \"\"\"\n",
    "    \n",
    "# Now we will use the ProcessEmail function that we have just created to process our email \n",
    "Processed_Email = ProcessEmail(email)\n",
    "\n",
    "# Now we will print out the processed email \n",
    "print(Processed_Email)"
   ]
  },
  {
   "cell_type": "markdown",
   "id": "brave-midwest",
   "metadata": {},
   "source": [
    "Finish the body of the function."
   ]
  },
  {
   "cell_type": "markdown",
   "id": "framed-worse",
   "metadata": {},
   "source": [
    "Run the function ProcessEmail for the email string that was read in earlier. If you get the following content, then congratulations, your code works.\n",
    "\n",
    "anyon know how much it cost to host a web portal well it depend on how mani visitor your expect thi can be anywher from less than number buck a month to a coupl of dollarnumb you should checkout httpaddr or perhap amazon ecnumb if your run someth big to unsubscrib yourself from thi mail list send an email to emailaddr"
   ]
  },
  {
   "cell_type": "markdown",
   "id": "common-greenhouse",
   "metadata": {},
   "source": [
    "## Vocabulary List (25 pts)"
   ]
  },
  {
   "cell_type": "markdown",
   "id": "bridal-possibility",
   "metadata": {},
   "source": [
    "After the emails are preprocessed, we now have a string that contains a list of words for\n",
    "each email. In the next step, we choose the words we would like to use in our classifier and ignore the rest. Suppose, based on a large number of email samples, we have already chosen the most frequently occuring words as the set of words to be considered, known as the vocabulary list, which is stored in vocab.txt. "
   ]
  },
  {
   "cell_type": "code",
   "execution_count": 7,
   "id": "waiting-education",
   "metadata": {},
   "outputs": [
    {
     "data": {
      "text/html": [
       "<div>\n",
       "<style scoped>\n",
       "    .dataframe tbody tr th:only-of-type {\n",
       "        vertical-align: middle;\n",
       "    }\n",
       "\n",
       "    .dataframe tbody tr th {\n",
       "        vertical-align: top;\n",
       "    }\n",
       "\n",
       "    .dataframe thead th {\n",
       "        text-align: right;\n",
       "    }\n",
       "</style>\n",
       "<table border=\"1\" class=\"dataframe\">\n",
       "  <thead>\n",
       "    <tr style=\"text-align: right;\">\n",
       "      <th></th>\n",
       "      <th>index</th>\n",
       "      <th>word</th>\n",
       "    </tr>\n",
       "  </thead>\n",
       "  <tbody>\n",
       "    <tr>\n",
       "      <th>0</th>\n",
       "      <td>1</td>\n",
       "      <td>aa</td>\n",
       "    </tr>\n",
       "    <tr>\n",
       "      <th>1</th>\n",
       "      <td>2</td>\n",
       "      <td>ab</td>\n",
       "    </tr>\n",
       "    <tr>\n",
       "      <th>2</th>\n",
       "      <td>3</td>\n",
       "      <td>abil</td>\n",
       "    </tr>\n",
       "    <tr>\n",
       "      <th>3</th>\n",
       "      <td>4</td>\n",
       "      <td>abl</td>\n",
       "    </tr>\n",
       "    <tr>\n",
       "      <th>4</th>\n",
       "      <td>5</td>\n",
       "      <td>about</td>\n",
       "    </tr>\n",
       "  </tbody>\n",
       "</table>\n",
       "</div>"
      ],
      "text/plain": [
       "   index   word\n",
       "0      1     aa\n",
       "1      2     ab\n",
       "2      3   abil\n",
       "3      4    abl\n",
       "4      5  about"
      ]
     },
     "execution_count": 7,
     "metadata": {},
     "output_type": "execute_result"
    }
   ],
   "source": [
    "vocab_df = pd.read_csv('vocab.txt', delim_whitespace=True, names=['index', 'word'])\n",
    "vocab_df.head()"
   ]
  },
  {
   "cell_type": "markdown",
   "id": "breathing-airport",
   "metadata": {},
   "source": [
    "Each word has an index."
   ]
  },
  {
   "cell_type": "markdown",
   "id": "curious-remedy",
   "metadata": {},
   "source": [
    "Given the vocabulary list, we can now map each word in the preprocessed emails into a list of indices, each of which is the index of the word in the vocabulary list. Specifically, in the sample email, the word \"anyon\" can be mapped onto the index 86 in the vocabulary\n",
    "list. If a word is not in the vocabulary, ignore it. Now write a function in the following form:"
   ]
  },
  {
   "cell_type": "code",
   "execution_count": 28,
   "id": "accomplished-district",
   "metadata": {},
   "outputs": [
    {
     "name": "stdout",
     "output_type": "stream",
     "text": [
      "[86, 916, 794, 1077, 883, 370, 1699, 790, 1822, 1831, 883, 431, 1171, 794, 1002, 1895, 1676, 238, 162, 89, 688, 945, 1663, 1120, 1062, 1699, 375, 1162, 1893, 1510, 799, 1182, 1237, 810, 1895, 1440, 1547, 181, 1699, 1758, 1896, 688, 1676, 992, 961, 1477, 71, 530, 1699, 531]\n"
     ]
    }
   ],
   "source": [
    "def EmailToIndices(processed_email, vocab_df):\n",
    "    \n",
    "    # First turn the email string into a list of words by processed_email.split();\n",
    "    \n",
    "    list_of_words = processed_email.split()\n",
    "    \n",
    "    # For each word check if it is in the vocabulary\n",
    "    # If it is in it, then find the corresponding index & append it to your index list; otherwise ignore it\n",
    "    # To build the list of indicies, you can start with an empy list [] and append indcies one by one as you\n",
    "    # find them using the append function associated with the list \n",
    "    empty_list = []\n",
    "    \n",
    "    # Create a list of vocab words\n",
    "    \n",
    "    vocab_list = list(vocab_df.iloc[:,1])\n",
    "    \n",
    "    # Now we will create an if stastement \n",
    "    for word in list_of_words:\n",
    "        if word in vocab_list:\n",
    "            index=vocab_list.index(word)\n",
    "            empty_list.append(index+1)\n",
    "        else: continue\n",
    "        \n",
    "    return(empty_list)\n",
    "    \n",
    "\n",
    "    \n",
    "\n",
    "Position_List = EmailToIndices(Processed_Email, vocab_df)\n",
    "\n",
    "print(Position_List)\n",
    "\n",
    "    "
   ]
  },
  {
   "cell_type": "markdown",
   "id": "continued-rhythm",
   "metadata": {},
   "source": [
    "Test your EmailToIndices function on the preprocessed email string obtained earlier. If you get the following list of integers, congratulations again, your code works."
   ]
  },
  {
   "cell_type": "markdown",
   "id": "dangerous-cocktail",
   "metadata": {},
   "source": [
    "[86, 916, 794, 1077, 883, 370, 1699, 790, 1822, 1831, 883, 431, 1171, 794, 1002, 1895, 592, 1676, 238, 162, 89, 688, 945, 1663, 1120, 1062, 1699, 375, 1162, 479, 1893, 1510, 799, 1182, 1237, 810, 1895, 1440, 1547, 181, 1699, 1758, 1896, 688, 1676, 992, 961, 1477, 71, 530, 1699, 531]"
   ]
  },
  {
   "cell_type": "markdown",
   "id": "coastal-catering",
   "metadata": {},
   "source": [
    "## Extracting Features from Emails (25 pts)"
   ]
  },
  {
   "cell_type": "markdown",
   "id": "controlled-integration",
   "metadata": {},
   "source": [
    "Now we will convert each email into a vector in $R^n$ as the features, where $n$ is the number of words in the vocabulary list. Specifically, the feature $x_i=0$ or $1$ for an email depending on whether the $i$-th word in the vocabulary list occurs in the email. That is, $x_i = 1$ if the $i$-th word is in the email and $x_i = 0$ if the i-th word is not present in the email. Write a function that converts a list of indices obtained from the previous function to a feature vector in $R^n$. Follow the following form:"
   ]
  },
  {
   "cell_type": "code",
   "execution_count": 63,
   "id": "eb839cf3",
   "metadata": {},
   "outputs": [
    {
     "name": "stdout",
     "output_type": "stream",
     "text": [
      "Length of feature vector:  1899\n"
     ]
    }
   ],
   "source": [
    "features = emailFeatures(word_indices);\n",
    "print('Length of feature vector: ', len(features));\n"
   ]
  },
  {
   "cell_type": "code",
   "execution_count": 80,
   "id": "802d81e6",
   "metadata": {},
   "outputs": [
    {
     "name": "stdout",
     "output_type": "stream",
     "text": [
      "Length of feature vector: 1899\n",
      "Number of non-zero entries: 39.0\n"
     ]
    }
   ],
   "source": [
    "def FeatureExtraction(indices, vocab_df):\n",
    "    # First we will create an empty list.\n",
    "    empty_list=[]\n",
    "    \n",
    "    # Create a list of the Vocab words.\n",
    "    vocab_list=list(vocab_df.iloc[:,0])\n",
    "    \n",
    "    # Create a for loop\n",
    "    for wordnum in vocab_list:\n",
    "        if wordnum in indices:\n",
    "            empty_list.append(1)\n",
    "        else:\n",
    "            empty_list.append(0)\n",
    "    return(empty_list)\n",
    "\n",
    "Features=FeatureExtraction(Position_List,vocab_df)\n",
    "#print(Feature_vector)\n",
    "\n",
    "print('Length of feature vector:' ,len(Features))\n",
    "print('Number of non-zero entries:', np.sum(features));"
   ]
  },
  {
   "cell_type": "markdown",
   "id": "surprising-posting",
   "metadata": {},
   "source": [
    "Run the function on the list of indices obtained from the previous problem to get the feature vector. Report the number of nonzeros in the vector and the size of the vector."
   ]
  },
  {
   "cell_type": "markdown",
   "id": "spanish-strength",
   "metadata": {},
   "source": [
    "## Training SVM for Spam Classification (30 pts)"
   ]
  },
  {
   "cell_type": "markdown",
   "id": "infectious-medium",
   "metadata": {},
   "source": [
    "Now suppose we have preprocessed a bunch of emails and manually labled them. Each original email was processed using the ProcessEmail, EmailToIndices, and FeatureExtraction functions in sequence, and converted into a vector in $R^{1899}$. We use the data to train a Linear SVM classifier. The file \"spamTrain.npy\" contains 4000 training examples of spam and non-spam email, while \"spamTest.npy\" contains 1000 test examples. The last column is the target label (spam: y=1, non-spam: y=0). Use np.load(filename) to read in the data.\n",
    "\n",
    "1. For training the linear SVM, consider $C=\\{0.05, 1.0, 2.0\\}$. Set random_state=10, loss='hinge', and all the other parameters are by default. For each model report the accuracy on the test data (LinearSVC has a built in function to calculate accuracy). Also report the best model based on the accuracy values.\n",
    "\n",
    "2. Look at the parameters $\\boldsymbol{w}=\\{w_1,w_2,\\dots,w_n\\}$ of the underlying linear model. Make a plot of the absolute values of $\\boldsymbol{w}$ versus the indices $[0,1,2,...n-1]$. Are some weights $w_i$ significantly larger than the rest of the weights from the graph? If so, the words corresponding to the larger weights are the most predictive of spam. Find those words. (Hint: you need to find the indices (positions) of the 15 largest values in the vector $\\boldsymbol{w}$. The function np.argsort may help. Check the usage of the function. Then use the indices to find the words in the vocabulary data frame."
   ]
  },
  {
   "cell_type": "code",
   "execution_count": 96,
   "id": "1bff222b",
   "metadata": {},
   "outputs": [],
   "source": [
    "# Read in the Training & Validation Data\n",
    "\n",
    "Train_Data = np.load('spamTrain.npy')\n",
    "Test_Data = np.load('spamTest.npy')"
   ]
  },
  {
   "cell_type": "code",
   "execution_count": 101,
   "id": "b7346b39",
   "metadata": {},
   "outputs": [],
   "source": [
    "from sklearn import svm\n",
    "\n",
    "# Create the X matrix & y vector for the Training Dataset\n",
    "X_train = Train_Data[:,0:1899]\n",
    "y_train = Train_Data[:,1899]\n",
    "\n",
    "X_test = Test_Data[:,0:1899]\n",
    "y_test = Test_Data[:,1899]\n"
   ]
  },
  {
   "cell_type": "code",
   "execution_count": 108,
   "id": "9f6ae9db",
   "metadata": {},
   "outputs": [
    {
     "name": "stdout",
     "output_type": "stream",
     "text": [
      "The Accuracy scores when C=0.05 is as follows: 0.992\n",
      "The Accuracy scores when C=0.05 is as follows: 0.977\n",
      "The Accuracy scores when C=0.05 is as follows: 0.974\n"
     ]
    }
   ],
   "source": [
    "# Creating the Linear SVM pipeline\n",
    "\n",
    "# Create the Linear SVM Model for c=0.05\n",
    "linear_svm_005 = svm.LinearSVC(C=0.05, loss='hinge', random_state=10)\n",
    "#Fit the model\n",
    "linear_svm_005.fit(X_train, y_train)\n",
    "# Compute the Accuracy Score\n",
    "y_pred = linear_svm_005.predict(X_test)\n",
    "Accuracy = metrics.accuracy_score(y_test, y_pred)\n",
    "print('The Accuracy scores when C=0.05 is as follows:', Accuracy)\n",
    "\n",
    "# Create the Linear SVM Model for c=1.0\n",
    "linear_svm_1 = svm.LinearSVC(C=1.0, loss='hinge', random_state=10)\n",
    "#Fit the model\n",
    "linear_svm_1.fit(X_train, y_train)\n",
    "y_pred = linear_svm_1.predict(X_test)\n",
    "Accuracy = metrics.accuracy_score(y_test, y_pred)\n",
    "print('The Accuracy scores when C=0.05 is as follows:', Accuracy)\n",
    "\n",
    "# Create the Linear SVM Model for c=2.0\n",
    "linear_svm_2 = svm.LinearSVC(C=2.0, loss='hinge', random_state=10)\n",
    "#Fit the model\n",
    "linear_svm_2.fit(X_train, y_train)\n",
    "y_pred = linear_svm_2.predict(X_test)\n",
    "Accuracy = metrics.accuracy_score(y_test, y_pred)\n",
    "print('The Accuracy scores when C=0.05 is as follows:', Accuracy)"
   ]
  },
  {
   "cell_type": "markdown",
   "id": "2099c6fc",
   "metadata": {},
   "source": [
    "Thus, the best model based on the accuracy values is when $C=0.05$"
   ]
  },
  {
   "cell_type": "code",
   "execution_count": 46,
   "id": "96e5edf0",
   "metadata": {},
   "outputs": [
    {
     "name": "stdout",
     "output_type": "stream",
     "text": [
      "Top predictors of spam: \n",
      "\n",
      "our        (0.500614)\n",
      "click      (0.465916)\n",
      "remov      (0.422869)\n",
      "guarante   (0.383622)\n",
      "visit      (0.367710)\n",
      "basenumb   (0.345064)\n",
      "dollar     (0.323632)\n",
      "will       (0.269724)\n",
      "price      (0.267298)\n",
      "pleas      (0.261169)\n",
      "most       (0.257298)\n",
      "nbsp       (0.253941)\n",
      "lo         (0.253467)\n",
      "ga         (0.248297)\n",
      "hour       (0.246404)\n"
     ]
    }
   ],
   "source": [
    "\n",
    "\n",
    "# Create a function to read the fixed vocab list.\n",
    "def getVocabList():\n",
    "    \"\"\"\n",
    "    Reads the fixed vocabulary list in vocab.txt\n",
    "    and returns a dictionary of the words in vocabList.\n",
    "    \"\"\"\n",
    "    # Read the fixed vocabulary list.\n",
    "    with open('vocab.txt', 'r') as vocab:\n",
    "        \n",
    "        # Store all dictionary words in dictionary vocabList.\n",
    "        vocabList = {}\n",
    "        for line in vocab.readlines():\n",
    "            i, word = line.split()\n",
    "            vocabList[word] = int(i)\n",
    "\n",
    "    return vocabList\n",
    "\n",
    "# Create a list of vocab words    \n",
    "vocab_list = list(vocab_df.iloc[:,1])\n",
    "\n",
    "# Get the weights.\n",
    "weights = svc.coef_[0]\n",
    "\n",
    "# Get the 15 indices that sort the most important weights.\n",
    "indices = weights.argsort()[-15:]\n",
    "\n",
    "# Reverse argsorting in descending order.\n",
    "indices = (-weights).argsort()[:15]\n",
    "\n",
    "# Return a sorted list from the dictionary.\n",
    "vocabList = sorted(getVocabList())\n",
    "\n",
    "print('Top predictors of spam: \\n');\n",
    "for i in indices: \n",
    "    print( '{0:10s} ({1:8f})'.format(vocabList[i], float(weights[i])))\n",
    "   \n",
    "\n",
    "    "
   ]
  },
  {
   "cell_type": "code",
   "execution_count": 110,
   "id": "6bf477fb",
   "metadata": {},
   "outputs": [],
   "source": [
    "\n",
    "# Take the absolute Value of the weights\n",
    "weights = np.absolute(weights)"
   ]
  },
  {
   "cell_type": "code",
   "execution_count": 118,
   "id": "943aa315",
   "metadata": {},
   "outputs": [
    {
     "data": {
      "text/plain": [
       "<matplotlib.collections.PathCollection at 0x24986df3700>"
      ]
     },
     "execution_count": 118,
     "metadata": {},
     "output_type": "execute_result"
    },
    {
     "data": {
      "image/png": "[encoded data removed]",
      "text/plain": [
       "<Figure size 432x288 with 1 Axes>"
      ]
     },
     "metadata": {
      "needs_background": "light"
     },
     "output_type": "display_data"
    }
   ],
   "source": [
    "import matplotlib.pyplot as plt\n",
    "\n",
    "# Create the indices\n",
    "\n",
    "indices = range(0,1899)\n",
    "\n",
    "\n",
    "# Plot of the absolute value of the weights versus the indices\n",
    "plt.scatter(indices,weights)"
   ]
  },
  {
   "cell_type": "code",
   "execution_count": null,
   "id": "2bc86bac",
   "metadata": {},
   "outputs": [],
   "source": []
  }
 ],
 "metadata": {
  "kernelspec": {
   "display_name": "Python 3 (ipykernel)",
   "language": "python",
   "name": "python3"
  },
  "language_info": {
   "codemirror_mode": {
    "name": "ipython",
    "version": 3
   },
   "file_extension": ".py",
   "mimetype": "text/x-python",
   "name": "python",
   "nbconvert_exporter": "python",
   "pygments_lexer": "ipython3",
   "version": "3.9.7"
  },
  "latex_envs": {
   "LaTeX_envs_menu_present": true,
   "autoclose": false,
   "autocomplete": true,
   "bibliofile": "biblio.bib",
   "cite_by": "apalike",
   "current_citInitial": 1,
   "eqLabelWithNumbers": true,
   "eqNumInitial": 1,
   "hotkeys": {
    "equation": "Ctrl-E",
    "itemize": "Ctrl-I"
   },
   "labels_anchors": false,
   "latex_user_defs": false,
   "report_style_numbering": false,
   "user_envs_cfg": false
  },
  "toc": {
   "base_numbering": 1,
   "nav_menu": {},
   "number_sections": true,
   "sideBar": true,
   "skip_h1_title": false,
   "title_cell": "Table of Contents",
   "title_sidebar": "Contents",
   "toc_cell": false,
   "toc_position": {},
   "toc_section_display": true,
   "toc_window_display": false
  }
 },
 "nbformat": 4,
 "nbformat_minor": 5
}
